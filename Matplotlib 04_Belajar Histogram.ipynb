{
 "cells": [
  {
   "cell_type": "markdown",
   "id": "96578165",
   "metadata": {},
   "source": [
    "### Import"
   ]
  },
  {
   "cell_type": "code",
   "execution_count": 1,
   "id": "3dcfb335",
   "metadata": {},
   "outputs": [],
   "source": [
    "%matplotlib inline"
   ]
  },
  {
   "cell_type": "code",
   "execution_count": 2,
   "id": "15420c90",
   "metadata": {},
   "outputs": [
    {
     "name": "stdout",
     "output_type": "stream",
     "text": [
      "3.4.3\n",
      "1.20.3\n"
     ]
    }
   ],
   "source": [
    "import matplotlib\n",
    "import matplotlib.pyplot as plt\n",
    "import numpy as np\n",
    "\n",
    "print(matplotlib.__version__)\n",
    "print(np.__version__)"
   ]
  },
  {
   "cell_type": "markdown",
   "id": "ab20fa61",
   "metadata": {},
   "source": [
    "### Sample Data"
   ]
  },
  {
   "cell_type": "code",
   "execution_count": 3,
   "id": "13ce4f5c",
   "metadata": {},
   "outputs": [
    {
     "data": {
      "text/plain": [
       "array([ 99.73025479,  95.66086863, 102.55074349, ...,  77.33900597,\n",
       "        85.9279613 ,  94.23717436])"
      ]
     },
     "execution_count": 3,
     "metadata": {},
     "output_type": "execute_result"
    }
   ],
   "source": [
    "mu, sigma = 100,15 # Nilai mean dan nila standard deviation\n",
    "\n",
    "x = mu + sigma * np.random.randn(10000) # normal distribution\n",
    "x"
   ]
  },
  {
   "cell_type": "code",
   "execution_count": 4,
   "id": "3d228135",
   "metadata": {},
   "outputs": [
    {
     "data": {
      "text/plain": [
       "(10000,)"
      ]
     },
     "execution_count": 4,
     "metadata": {},
     "output_type": "execute_result"
    }
   ],
   "source": [
    "x.shape"
   ]
  },
  {
   "cell_type": "markdown",
   "id": "836d7a10",
   "metadata": {},
   "source": [
    "### Histogram dengan pyplot Style"
   ]
  },
  {
   "cell_type": "code",
   "execution_count": 6,
   "id": "eb8ae916",
   "metadata": {},
   "outputs": [
    {
     "data": {
      "image/png": "[encoded data removed]",
      "text/plain": [
       "<Figure size 432x288 with 1 Axes>"
      ]
     },
     "metadata": {
      "needs_background": "light"
     },
     "output_type": "display_data"
    }
   ],
   "source": [
    "plt.hist(x,\n",
    "        bins=50,\n",
    "        facecolor='g',\n",
    "        alpha=0.75)\n",
    "\n",
    "plt.xlabel('Sumbu X')\n",
    "plt.ylabel('Sumbu Y')\n",
    "plt.title('Contoh Histogram')\n",
    "\n",
    "plt.text(45,500, r'$\\mu=100,\\ \\sigma=15$')\n",
    "plt.grid()\n",
    "         \n",
    "plt.show()"
   ]
  },
  {
   "cell_type": "markdown",
   "id": "02eeedea",
   "metadata": {},
   "source": [
    "### Histogram dengan OO Style"
   ]
  },
  {
   "cell_type": "code",
   "execution_count": 7,
   "id": "4d8a42f9",
   "metadata": {},
   "outputs": [
    {
     "data": {
      "image/png": "[encoded data removed]",
      "text/plain": [
       "<Figure size 432x288 with 1 Axes>"
      ]
     },
     "metadata": {
      "needs_background": "light"
     },
     "output_type": "display_data"
    }
   ],
   "source": [
    "fig, ax = plt.subplots()\n",
    "\n",
    "ax.hist(x,\n",
    "       bins=50,\n",
    "       facecolor='r',\n",
    "       alpha=0.75)\n",
    "\n",
    "ax.set_xlabel('Sumbu X')\n",
    "ax.set_ylabel('Sumbu Y')\n",
    "ax.set_title('Contoh Histogram')\n",
    "\n",
    "ax.text(45,500, r'$\\mu=100,\\ \\sigma=15$')\n",
    "ax.grid()\n",
    "\n",
    "plt.show()"
   ]
  }
 ],
 "metadata": {
  "kernelspec": {
   "display_name": "Python 3 (ipykernel)",
   "language": "python",
   "name": "python3"
  },
  "language_info": {
   "codemirror_mode": {
    "name": "ipython",
    "version": 3
   },
   "file_extension": ".py",
   "mimetype": "text/x-python",
   "name": "python",
   "nbconvert_exporter": "python",
   "pygments_lexer": "ipython3",
   "version": "3.9.7"
  }
 },
 "nbformat": 4,
 "nbformat_minor": 5
}
